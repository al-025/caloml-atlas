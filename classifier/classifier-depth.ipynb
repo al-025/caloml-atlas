{
 "cells": [
  {
   "cell_type": "markdown",
   "metadata": {},
   "source": [
    "# 1x1 Convolutions"
   ]
  },
  {
   "cell_type": "markdown",
   "metadata": {},
   "source": [
    "- [Simple test setup](#Simple-test-setup)\n",
    "- [Experimentation](#Experimentation)"
   ]
  },
  {
   "cell_type": "code",
   "execution_count": 1,
   "metadata": {},
   "outputs": [],
   "source": [
    "%load_ext autoreload\n",
    "%autoreload 2"
   ]
  },
  {
   "cell_type": "code",
   "execution_count": 2,
   "metadata": {},
   "outputs": [
    {
     "name": "stderr",
     "output_type": "stream",
     "text": [
      "Using TensorFlow backend.\n"
     ]
    }
   ],
   "source": [
    "#import libraries and some constants\n",
    "\n",
    "import os\n",
    "import numpy as np\n",
    "import matplotlib as mpl\n",
    "import matplotlib.pyplot as plt\n",
    "from matplotlib.colors import Normalize, LogNorm\n",
    "import pandas as pd\n",
    "import uproot as ur\n",
    "import pickle\n",
    "import atlas_mpl_style as ampl\n",
    "ampl.use_atlas_style()\n",
    "\n",
    "path_prefix = '/AL/Phd/maxml/caloml-atlas/'\n",
    "plotpath = path_prefix+'classifier/Plots_1x1/'\n",
    "modelpath = path_prefix+'classifier/Models/'\n",
    "\n",
    "# import our resolution utilities\n",
    "import sys\n",
    "sys.path.append(path_prefix)\n",
    "from  util import resolution_util as ru\n",
    "from  util import plot_util as pu\n",
    "from  util import ml_util as mu\n",
    "\n",
    "inputpath = path_prefix+'inputs/'\n",
    "rootfiles = [\"pi0\", \"piplus\", \"piminus\"]\n",
    "\n",
    "trees, pdata = mu.setupPionData(inputpath, rootfiles)"
   ]
  },
  {
   "cell_type": "code",
   "execution_count": 3,
   "metadata": {},
   "outputs": [
    {
     "name": "stdout",
     "output_type": "stream",
     "text": [
      "Number of pi0 events: 263891\n",
      "Number of pi+ events: 435967\n",
      "Number of pi- events: 434627\n",
      "Total: 1134485\n"
     ]
    }
   ],
   "source": [
    "np0 = len(pdata['pi0'])\n",
    "npp = len(pdata['piplus'])\n",
    "npm = len(pdata['piminus'])\n",
    "\n",
    "print(\"Number of pi0 events: {}\".format(np0))\n",
    "print(\"Number of pi+ events: {}\".format(npp))\n",
    "print(\"Number of pi- events: {}\".format(npm))\n",
    "print(\"Total: {}\".format(np0+npp+npm))\n",
    "\n",
    "pcells = {\n",
    "    ifile : {\n",
    "        layer : mu.setupCells(itree, layer, flatten = False)\n",
    "        for layer in mu.cell_meta\n",
    "    }\n",
    "    for ifile, itree in trees.items()\n",
    "}"
   ]
  },
  {
   "cell_type": "code",
   "execution_count": 4,
   "metadata": {},
   "outputs": [
    {
     "name": "stdout",
     "output_type": "stream",
     "text": [
      "INFO:tensorflow:Using MirroredStrategy with devices ('/job:localhost/replica:0/task:0/device:GPU:0',)\n",
      "Number of devices: 1\n"
     ]
    }
   ],
   "source": [
    "import numpy\n",
    "from tensorflow.keras.models import Sequential\n",
    "from tensorflow.keras.layers import Dense\n",
    "from tensorflow.keras.layers import Dropout\n",
    "from tensorflow.keras.layers import Flatten\n",
    "from tensorflow.keras.layers import Convolution2D\n",
    "from tensorflow.keras.layers import MaxPool2D\n",
    "from tensorflow.keras.layers import Input\n",
    "from tensorflow.keras.layers import concatenate\n",
    "from tensorflow.keras.layers import BatchNormalization\n",
    "from tensorflow.keras.layers import Activation\n",
    "from tensorflow.keras.layers import AveragePooling2D\n",
    "from tensorflow.keras.regularizers import l2\n",
    "from tensorflow.keras.optimizers import Adam\n",
    "from tensorflow.keras import Model\n",
    "from tensorflow import keras as keras\n",
    "\n",
    "import tensorflow as tf\n",
    "from sklearn.metrics import roc_curve, auc\n",
    "\n",
    "gpu_list = [\"/gpu:0\"]\n",
    "strategy = tf.distribute.MirroredStrategy(devices=gpu_list)\n",
    "# strategy = tf.distribute.MirroredStrategy()\n",
    "ngpu = strategy.num_replicas_in_sync\n",
    "print ('Number of devices: {}'.format(ngpu))"
   ]
  },
  {
   "cell_type": "code",
   "execution_count": 5,
   "metadata": {},
   "outputs": [],
   "source": [
    "training_classes = ['pi0','piplus']\n",
    "# create train/validation/test subsets containing 70%/10%/20%\n",
    "# of events from each type of pion event\n",
    "pdata_merged, pcells_merged, plabels = mu.createTrainingDatasets(training_classes, pdata, pcells)\n",
    "\n",
    "pcells_merged_reshaped = mu.reshapeSeparateCNN(pcells_merged)\n",
    "pcells_EMB2_channels = mu.setupChannelImages(mu.rescaleImages(pcells_merged, (16, 16)))"
   ]
  },
  {
   "cell_type": "markdown",
   "metadata": {},
   "source": [
    "## Simple test setup\n",
    "<div style=\"text-align: right\"> <a href=\"#1x1-Convolutions\">Top</a> </div>"
   ]
  },
  {
   "cell_type": "code",
   "execution_count": 6,
   "metadata": {},
   "outputs": [],
   "source": [
    "filters = {\n",
    "    'EMB1': (1,1), \n",
    "    'EMB2': (1,1), \n",
    "    'EMB3': (1,1), \n",
    "    'TileBar0': (1,1), \n",
    "    'TileBar1': (1,1), \n",
    "    'TileBar2': (1,1)\n",
    "}\n",
    "filters2 = {\n",
    "    'EMB1': (4,8), \n",
    "    'EMB2': (8,8), \n",
    "    'EMB3': (4,2), \n",
    "    'TileBar0': (2,2), \n",
    "    'TileBar1': (2,2), \n",
    "    'TileBar2': (1,1)\n",
    "}\n",
    "pools2 = {\n",
    "    'EMB1': (2,2), \n",
    "    'EMB2': (2,2), \n",
    "    'EMB3': (1,1), \n",
    "    'TileBar0': (1,1), \n",
    "    'TileBar1': (1,1), \n",
    "    'TileBar2': (1,1)\n",
    "}"
   ]
  },
  {
   "cell_type": "code",
   "execution_count": 7,
   "metadata": {},
   "outputs": [],
   "source": [
    "def cnn_model_1x1():\n",
    "    with strategy.scope():\n",
    "        # Here come the 16x16 inputs\n",
    "        input1 = Input(shape=(6, 16, 16), name='input1')\n",
    "        x = Convolution2D(32, (1, 1), activation='relu', data_format = 'channels_first')(input1)\n",
    "        x = MaxPool2D(pool_size=(2, 2))(x)\n",
    "        x = Dropout(0.2)(x)\n",
    "        x = Flatten()(x)\n",
    "        x = Dense(128, activation='relu')(x)\n",
    "        x = Dense(64, activation='relu')(x)\n",
    "        output = Dense(2, activation='softmax')(x)\n",
    "        model = Model(inputs = [input1], outputs = [output])\n",
    "        \n",
    "        # compile model\n",
    "        model.compile(loss='categorical_crossentropy', optimizer='adam', metrics=['acc'])\n",
    "        return model"
   ]
  },
  {
   "cell_type": "code",
   "execution_count": 8,
   "metadata": {},
   "outputs": [
    {
     "name": "stdout",
     "output_type": "stream",
     "text": [
      "INFO:tensorflow:Reduce to /job:localhost/replica:0/task:0/device:CPU:0 then broadcast to ('/job:localhost/replica:0/task:0/device:CPU:0',).\n",
      "INFO:tensorflow:Reduce to /job:localhost/replica:0/task:0/device:CPU:0 then broadcast to ('/job:localhost/replica:0/task:0/device:CPU:0',).\n"
     ]
    }
   ],
   "source": [
    "model = cnn_model_1x1()\n"
   ]
  },
  {
   "cell_type": "code",
   "execution_count": 9,
   "metadata": {},
   "outputs": [
    {
     "name": "stdout",
     "output_type": "stream",
     "text": [
      "Train on 489899 samples, validate on 69988 samples\n",
      "Epoch 1/100\n",
      "INFO:tensorflow:Reduce to /job:localhost/replica:0/task:0/device:CPU:0 then broadcast to ('/job:localhost/replica:0/task:0/device:CPU:0',).\n",
      "INFO:tensorflow:Reduce to /job:localhost/replica:0/task:0/device:CPU:0 then broadcast to ('/job:localhost/replica:0/task:0/device:CPU:0',).\n",
      "INFO:tensorflow:Reduce to /job:localhost/replica:0/task:0/device:CPU:0 then broadcast to ('/job:localhost/replica:0/task:0/device:CPU:0',).\n",
      "INFO:tensorflow:Reduce to /job:localhost/replica:0/task:0/device:CPU:0 then broadcast to ('/job:localhost/replica:0/task:0/device:CPU:0',).\n",
      "INFO:tensorflow:Reduce to /job:localhost/replica:0/task:0/device:CPU:0 then broadcast to ('/job:localhost/replica:0/task:0/device:CPU:0',).\n",
      "INFO:tensorflow:Reduce to /job:localhost/replica:0/task:0/device:CPU:0 then broadcast to ('/job:localhost/replica:0/task:0/device:CPU:0',).\n",
      "489899/489899 - 21s - loss: 0.3052 - acc: 0.8686 - val_loss: 0.2422 - val_acc: 0.9031\n",
      "Epoch 2/100\n",
      "489899/489899 - 13s - loss: 0.2469 - acc: 0.9008 - val_loss: 0.2336 - val_acc: 0.9075\n",
      "Epoch 3/100\n",
      "489899/489899 - 13s - loss: 0.2374 - acc: 0.9050 - val_loss: 0.2285 - val_acc: 0.9098\n",
      "Epoch 4/100\n",
      "489899/489899 - 13s - loss: 0.2311 - acc: 0.9073 - val_loss: 0.2276 - val_acc: 0.9109\n",
      "Epoch 5/100\n",
      "489899/489899 - 13s - loss: 0.2265 - acc: 0.9092 - val_loss: 0.2204 - val_acc: 0.9130\n",
      "Epoch 6/100\n",
      "489899/489899 - 13s - loss: 0.2236 - acc: 0.9108 - val_loss: 0.2161 - val_acc: 0.9150\n",
      "Epoch 7/100\n",
      "489899/489899 - 13s - loss: 0.2205 - acc: 0.9127 - val_loss: 0.2155 - val_acc: 0.9149\n",
      "Epoch 8/100\n",
      "489899/489899 - 13s - loss: 0.2179 - acc: 0.9137 - val_loss: 0.2117 - val_acc: 0.9174\n",
      "Epoch 9/100\n",
      "489899/489899 - 13s - loss: 0.2174 - acc: 0.9139 - val_loss: 0.2121 - val_acc: 0.9170\n",
      "Epoch 10/100\n",
      "489899/489899 - 13s - loss: 0.2148 - acc: 0.9151 - val_loss: 0.2123 - val_acc: 0.9159\n",
      "Epoch 11/100\n",
      "489899/489899 - 13s - loss: 0.2129 - acc: 0.9158 - val_loss: 0.2039 - val_acc: 0.9199\n",
      "Epoch 12/100\n",
      "489899/489899 - 13s - loss: 0.2117 - acc: 0.9163 - val_loss: 0.2067 - val_acc: 0.9188\n",
      "Epoch 13/100\n",
      "489899/489899 - 13s - loss: 0.2109 - acc: 0.9166 - val_loss: 0.2024 - val_acc: 0.9201\n",
      "Epoch 14/100\n",
      "489899/489899 - 13s - loss: 0.2091 - acc: 0.9174 - val_loss: 0.2031 - val_acc: 0.9206\n",
      "Epoch 15/100\n",
      "489899/489899 - 13s - loss: 0.2083 - acc: 0.9177 - val_loss: 0.2025 - val_acc: 0.9206\n",
      "Epoch 16/100\n",
      "489899/489899 - 14s - loss: 0.2070 - acc: 0.9181 - val_loss: 0.2044 - val_acc: 0.9193\n",
      "Epoch 17/100\n",
      "489899/489899 - 13s - loss: 0.2064 - acc: 0.9185 - val_loss: 0.2011 - val_acc: 0.9215\n",
      "Epoch 18/100\n",
      "489899/489899 - 14s - loss: 0.2053 - acc: 0.9191 - val_loss: 0.2078 - val_acc: 0.9196\n",
      "Epoch 19/100\n",
      "489899/489899 - 14s - loss: 0.2049 - acc: 0.9190 - val_loss: 0.2008 - val_acc: 0.9214\n",
      "Epoch 20/100\n",
      "489899/489899 - 14s - loss: 0.2043 - acc: 0.9194 - val_loss: 0.1970 - val_acc: 0.9226\n",
      "Epoch 21/100\n",
      "489899/489899 - 13s - loss: 0.2032 - acc: 0.9197 - val_loss: 0.1972 - val_acc: 0.9227\n",
      "Epoch 22/100\n",
      "489899/489899 - 13s - loss: 0.2041 - acc: 0.9194 - val_loss: 0.1977 - val_acc: 0.9218\n",
      "Epoch 23/100\n",
      "489899/489899 - 13s - loss: 0.2014 - acc: 0.9206 - val_loss: 0.1956 - val_acc: 0.9230\n",
      "Epoch 24/100\n",
      "489899/489899 - 14s - loss: 0.2020 - acc: 0.9203 - val_loss: 0.1959 - val_acc: 0.9228\n",
      "Epoch 25/100\n",
      "489899/489899 - 13s - loss: 0.2008 - acc: 0.9205 - val_loss: 0.1953 - val_acc: 0.9235\n",
      "Epoch 26/100\n",
      "489899/489899 - 13s - loss: 0.1998 - acc: 0.9211 - val_loss: 0.1978 - val_acc: 0.9226\n",
      "Epoch 27/100\n",
      "489899/489899 - 13s - loss: 0.1994 - acc: 0.9214 - val_loss: 0.1991 - val_acc: 0.9225\n",
      "Epoch 28/100\n",
      "489899/489899 - 13s - loss: 0.1989 - acc: 0.9215 - val_loss: 0.1976 - val_acc: 0.9222\n",
      "Epoch 29/100\n",
      "489899/489899 - 13s - loss: 0.1985 - acc: 0.9219 - val_loss: 0.1938 - val_acc: 0.9238\n",
      "Epoch 30/100\n",
      "489899/489899 - 13s - loss: 0.1985 - acc: 0.9218 - val_loss: 0.1960 - val_acc: 0.9231\n",
      "Epoch 31/100\n",
      "489899/489899 - 13s - loss: 0.1978 - acc: 0.9220 - val_loss: 0.1944 - val_acc: 0.9236\n",
      "Epoch 32/100\n",
      "489899/489899 - 13s - loss: 0.1982 - acc: 0.9219 - val_loss: 0.1942 - val_acc: 0.9241\n",
      "Epoch 33/100\n",
      "489899/489899 - 13s - loss: 0.1969 - acc: 0.9225 - val_loss: 0.1938 - val_acc: 0.9243\n",
      "Epoch 34/100\n",
      "489899/489899 - 13s - loss: 0.1970 - acc: 0.9222 - val_loss: 0.1934 - val_acc: 0.9245\n",
      "Epoch 35/100\n",
      "489899/489899 - 13s - loss: 0.1964 - acc: 0.9224 - val_loss: 0.1950 - val_acc: 0.9231\n",
      "Epoch 36/100\n",
      "489899/489899 - 13s - loss: 0.1963 - acc: 0.9226 - val_loss: 0.1910 - val_acc: 0.9254\n",
      "Epoch 37/100\n",
      "489899/489899 - 13s - loss: 0.1960 - acc: 0.9230 - val_loss: 0.1922 - val_acc: 0.9245\n",
      "Epoch 38/100\n",
      "489899/489899 - 14s - loss: 0.1954 - acc: 0.9227 - val_loss: 0.1950 - val_acc: 0.9234\n",
      "Epoch 39/100\n",
      "489899/489899 - 14s - loss: 0.1947 - acc: 0.9233 - val_loss: 0.1921 - val_acc: 0.9245\n",
      "Epoch 40/100\n",
      "489899/489899 - 13s - loss: 0.1950 - acc: 0.9231 - val_loss: 0.1909 - val_acc: 0.9249\n",
      "Epoch 41/100\n",
      "489899/489899 - 13s - loss: 0.1945 - acc: 0.9232 - val_loss: 0.1926 - val_acc: 0.9243\n",
      "Epoch 42/100\n",
      "489899/489899 - 13s - loss: 0.1947 - acc: 0.9236 - val_loss: 0.1895 - val_acc: 0.9267\n",
      "Epoch 43/100\n",
      "489899/489899 - 13s - loss: 0.1942 - acc: 0.9235 - val_loss: 0.1937 - val_acc: 0.9247\n",
      "Epoch 44/100\n",
      "489899/489899 - 13s - loss: 0.1938 - acc: 0.9236 - val_loss: 0.1918 - val_acc: 0.9258\n",
      "Epoch 45/100\n",
      "489899/489899 - 13s - loss: 0.1928 - acc: 0.9239 - val_loss: 0.1927 - val_acc: 0.9246\n",
      "Epoch 46/100\n",
      "489899/489899 - 13s - loss: 0.1928 - acc: 0.9238 - val_loss: 0.1917 - val_acc: 0.9254\n",
      "Epoch 47/100\n",
      "489899/489899 - 13s - loss: 0.1924 - acc: 0.9242 - val_loss: 0.1913 - val_acc: 0.9250\n",
      "Epoch 48/100\n",
      "489899/489899 - 13s - loss: 0.1925 - acc: 0.9239 - val_loss: 0.1906 - val_acc: 0.9261\n",
      "Epoch 49/100\n",
      "489899/489899 - 13s - loss: 0.1929 - acc: 0.9240 - val_loss: 0.1942 - val_acc: 0.9246\n",
      "Epoch 50/100\n",
      "489899/489899 - 13s - loss: 0.1914 - acc: 0.9245 - val_loss: 0.1906 - val_acc: 0.9257\n",
      "Epoch 51/100\n",
      "489899/489899 - 13s - loss: 0.1916 - acc: 0.9245 - val_loss: 0.1909 - val_acc: 0.9261\n",
      "Epoch 52/100\n",
      "489899/489899 - 13s - loss: 0.1915 - acc: 0.9244 - val_loss: 0.1913 - val_acc: 0.9258\n",
      "Epoch 53/100\n",
      "489899/489899 - 13s - loss: 0.1910 - acc: 0.9249 - val_loss: 0.1905 - val_acc: 0.9258\n",
      "Epoch 54/100\n",
      "489899/489899 - 13s - loss: 0.1909 - acc: 0.9248 - val_loss: 0.1920 - val_acc: 0.9254\n",
      "Epoch 55/100\n",
      "489899/489899 - 13s - loss: 0.1906 - acc: 0.9248 - val_loss: 0.1887 - val_acc: 0.9261\n",
      "Epoch 56/100\n",
      "489899/489899 - 13s - loss: 0.1907 - acc: 0.9245 - val_loss: 0.1903 - val_acc: 0.9257\n",
      "Epoch 57/100\n",
      "489899/489899 - 13s - loss: 0.1903 - acc: 0.9249 - val_loss: 0.1927 - val_acc: 0.9258\n",
      "Epoch 58/100\n",
      "489899/489899 - 13s - loss: 0.1905 - acc: 0.9249 - val_loss: 0.1881 - val_acc: 0.9272\n",
      "Epoch 59/100\n",
      "489899/489899 - 14s - loss: 0.1904 - acc: 0.9250 - val_loss: 0.1949 - val_acc: 0.9242\n",
      "Epoch 60/100\n",
      "489899/489899 - 13s - loss: 0.1896 - acc: 0.9251 - val_loss: 0.1880 - val_acc: 0.9267\n",
      "Epoch 61/100\n",
      "489899/489899 - 13s - loss: 0.1895 - acc: 0.9254 - val_loss: 0.1913 - val_acc: 0.9261\n",
      "Epoch 62/100\n",
      "489899/489899 - 13s - loss: 0.1893 - acc: 0.9256 - val_loss: 0.1903 - val_acc: 0.9262\n",
      "Epoch 63/100\n",
      "489899/489899 - 13s - loss: 0.1892 - acc: 0.9251 - val_loss: 0.1882 - val_acc: 0.9274\n",
      "Epoch 64/100\n",
      "489899/489899 - 14s - loss: 0.1891 - acc: 0.9256 - val_loss: 0.1888 - val_acc: 0.9270\n",
      "Epoch 65/100\n",
      "489899/489899 - 13s - loss: 0.1888 - acc: 0.9255 - val_loss: 0.1877 - val_acc: 0.9274\n",
      "Epoch 66/100\n",
      "489899/489899 - 13s - loss: 0.1888 - acc: 0.9258 - val_loss: 0.1916 - val_acc: 0.9260\n",
      "Epoch 67/100\n",
      "489899/489899 - 13s - loss: 0.1882 - acc: 0.9259 - val_loss: 0.1878 - val_acc: 0.9274\n",
      "Epoch 68/100\n",
      "489899/489899 - 13s - loss: 0.1882 - acc: 0.9258 - val_loss: 0.1893 - val_acc: 0.9263\n",
      "Epoch 69/100\n",
      "489899/489899 - 13s - loss: 0.1884 - acc: 0.9258 - val_loss: 0.1886 - val_acc: 0.9265\n",
      "Epoch 70/100\n",
      "489899/489899 - 13s - loss: 0.1878 - acc: 0.9258 - val_loss: 0.1884 - val_acc: 0.9273\n",
      "Epoch 71/100\n",
      "489899/489899 - 13s - loss: 0.1881 - acc: 0.9257 - val_loss: 0.1868 - val_acc: 0.9275\n",
      "Epoch 72/100\n",
      "489899/489899 - 13s - loss: 0.1872 - acc: 0.9261 - val_loss: 0.1932 - val_acc: 0.9251\n",
      "Epoch 73/100\n",
      "489899/489899 - 13s - loss: 0.1874 - acc: 0.9261 - val_loss: 0.1884 - val_acc: 0.9273\n",
      "Epoch 74/100\n",
      "489899/489899 - 13s - loss: 0.1866 - acc: 0.9262 - val_loss: 0.1981 - val_acc: 0.9242\n"
     ]
    },
    {
     "name": "stdout",
     "output_type": "stream",
     "text": [
      "Epoch 75/100\n",
      "489899/489899 - 13s - loss: 0.1873 - acc: 0.9261 - val_loss: 0.1907 - val_acc: 0.9270\n",
      "Epoch 76/100\n",
      "489899/489899 - 13s - loss: 0.1869 - acc: 0.9262 - val_loss: 0.1878 - val_acc: 0.9275\n",
      "Epoch 77/100\n",
      "489899/489899 - 13s - loss: 0.1866 - acc: 0.9266 - val_loss: 0.1884 - val_acc: 0.9275\n",
      "Epoch 78/100\n",
      "489899/489899 - 13s - loss: 0.1863 - acc: 0.9269 - val_loss: 0.1884 - val_acc: 0.9272\n",
      "Epoch 79/100\n",
      "489899/489899 - 13s - loss: 0.1867 - acc: 0.9264 - val_loss: 0.1878 - val_acc: 0.9265\n",
      "Epoch 80/100\n",
      "489899/489899 - 13s - loss: 0.1866 - acc: 0.9263 - val_loss: 0.1892 - val_acc: 0.9261\n",
      "Epoch 81/100\n",
      "489899/489899 - 13s - loss: 0.1860 - acc: 0.9263 - val_loss: 0.1899 - val_acc: 0.9268\n",
      "Epoch 82/100\n",
      "489899/489899 - 13s - loss: 0.1862 - acc: 0.9266 - val_loss: 0.1898 - val_acc: 0.9268\n",
      "Epoch 83/100\n",
      "489899/489899 - 13s - loss: 0.1862 - acc: 0.9266 - val_loss: 0.1888 - val_acc: 0.9278\n",
      "Epoch 84/100\n",
      "489899/489899 - 13s - loss: 0.1856 - acc: 0.9265 - val_loss: 0.1867 - val_acc: 0.9276\n",
      "Epoch 85/100\n",
      "489899/489899 - 13s - loss: 0.1867 - acc: 0.9263 - val_loss: 0.1870 - val_acc: 0.9276\n",
      "Epoch 86/100\n",
      "489899/489899 - 13s - loss: 0.1856 - acc: 0.9269 - val_loss: 0.1857 - val_acc: 0.9276\n",
      "Epoch 87/100\n",
      "489899/489899 - 13s - loss: 0.1854 - acc: 0.9268 - val_loss: 0.1868 - val_acc: 0.9284\n",
      "Epoch 88/100\n",
      "489899/489899 - 13s - loss: 0.1851 - acc: 0.9270 - val_loss: 0.1857 - val_acc: 0.9277\n",
      "Epoch 89/100\n",
      "489899/489899 - 13s - loss: 0.1851 - acc: 0.9269 - val_loss: 0.1868 - val_acc: 0.9280\n",
      "Epoch 90/100\n",
      "489899/489899 - 13s - loss: 0.1849 - acc: 0.9271 - val_loss: 0.1862 - val_acc: 0.9282\n",
      "Epoch 91/100\n",
      "489899/489899 - 13s - loss: 0.1848 - acc: 0.9271 - val_loss: 0.1861 - val_acc: 0.9281\n",
      "Epoch 92/100\n",
      "489899/489899 - 13s - loss: 0.1844 - acc: 0.9273 - val_loss: 0.1851 - val_acc: 0.9290\n",
      "Epoch 93/100\n",
      "489899/489899 - 13s - loss: 0.1848 - acc: 0.9273 - val_loss: 0.1875 - val_acc: 0.9279\n",
      "Epoch 94/100\n",
      "489899/489899 - 13s - loss: 0.1843 - acc: 0.9272 - val_loss: 0.1896 - val_acc: 0.9275\n",
      "Epoch 95/100\n",
      "489899/489899 - 13s - loss: 0.1844 - acc: 0.9272 - val_loss: 0.1864 - val_acc: 0.9289\n",
      "Epoch 96/100\n",
      "489899/489899 - 13s - loss: 0.1848 - acc: 0.9274 - val_loss: 0.1844 - val_acc: 0.9292\n",
      "Epoch 97/100\n",
      "489899/489899 - 13s - loss: 0.1845 - acc: 0.9272 - val_loss: 0.1875 - val_acc: 0.9280\n",
      "Epoch 98/100\n",
      "489899/489899 - 13s - loss: 0.1838 - acc: 0.9275 - val_loss: 0.1877 - val_acc: 0.9274\n",
      "Epoch 99/100\n",
      "489899/489899 - 13s - loss: 0.1841 - acc: 0.9272 - val_loss: 0.1864 - val_acc: 0.9279\n",
      "Epoch 100/100\n",
      "489899/489899 - 13s - loss: 0.1836 - acc: 0.9277 - val_loss: 0.1877 - val_acc: 0.9278\n"
     ]
    }
   ],
   "source": [
    "history = model.fit(pcells_EMB2_channels[pdata_merged.train],\n",
    "                    plabels[pdata_merged.train], \n",
    "                    validation_data=(pcells_EMB2_channels[pdata_merged.val], plabels[pdata_merged.val]),\n",
    "                    epochs=100, batch_size=200*ngpu, verbose=2)\n",
    "history = history.history"
   ]
  },
  {
   "cell_type": "code",
   "execution_count": 10,
   "metadata": {},
   "outputs": [],
   "source": [
    "# save network\n",
    "\n",
    "model.save(modelpath+\"model_cnn_1x1.h5\")\n",
    "with open(modelpath + \"model_cnn_1x1.history\",'wb') as model_history_file:\n",
    "    pickle.dump(history, model_history_file)"
   ]
  },
  {
   "cell_type": "code",
   "execution_count": 8,
   "metadata": {},
   "outputs": [],
   "source": [
    "# load network\n",
    "\n",
    "model = tf.keras.models.load_model(modelpath+\"model_cnn_1x1.h5\")\n",
    "with open(modelpath + 'model_cnn_1x1.history','rb') as model_history_file:\n",
    "    history = pickle.load(model_history_file)"
   ]
  },
  {
   "cell_type": "code",
   "execution_count": 12,
   "metadata": {},
   "outputs": [
    {
     "name": "stdout",
     "output_type": "stream",
     "text": [
      "INFO:tensorflow:Reduce to /job:localhost/replica:0/task:0/device:CPU:0 then broadcast to ('/job:localhost/replica:0/task:0/device:CPU:0',).\n",
      "INFO:tensorflow:Reduce to /job:localhost/replica:0/task:0/device:CPU:0 then broadcast to ('/job:localhost/replica:0/task:0/device:CPU:0',).\n"
     ]
    }
   ],
   "source": [
    "# get overall performance metric\n",
    "performance = model.evaluate(\n",
    "    pcells_EMB2_channels[pdata_merged.test], plabels[pdata_merged.test],\n",
    "    verbose = 0,\n",
    ")\n",
    "\n",
    "# get network scores for the dataset\n",
    "score = model.predict(\n",
    "    pcells_EMB2_channels\n",
    ")\n"
   ]
  },
  {
   "cell_type": "code",
   "execution_count": 16,
   "metadata": {},
   "outputs": [
    {
     "data": {
      "text/plain": [
       "<Figure size 576x432 with 0 Axes>"
      ]
     },
     "metadata": {},
     "output_type": "display_data"
    },
    {
     "data": {
      "image/png": "[encoded data removed]",
      "text/plain": [
       "<Figure size 576x432 with 1 Axes>"
      ]
     },
     "metadata": {},
     "output_type": "display_data"
    },
    {
     "data": {
      "image/png": "[encoded data removed]",
      "text/plain": [
       "<Figure size 576x432 with 1 Axes>"
      ]
     },
     "metadata": {},
     "output_type": "display_data"
    }
   ],
   "source": [
    "\n",
    "plt.cla(); plt.clf()\n",
    "fig = plt.figure()\n",
    "fig.patch.set_facecolor('white')\n",
    "\n",
    "plt.plot(history['acc'])\n",
    "plt.plot(history['val_acc'])\n",
    "plt.title('model accuracy')\n",
    "plt.ylabel('accuracy')\n",
    "plt.xlabel('epoch')\n",
    "plt.legend(['train', 'test'], loc='upper left')\n",
    "plt.savefig(plotpath + 'test_acc.pdf')\n",
    "plt.show()\n",
    "\n",
    "\n",
    "# summarize history for loss\n",
    "fig = plt.figure()\n",
    "fig.patch.set_facecolor('white')\n",
    "plt.plot(history['loss'])\n",
    "plt.plot(history['val_loss'])\n",
    "plt.title('model loss')\n",
    "plt.ylabel('loss')\n",
    "plt.xlabel('epoch')\n",
    "plt.legend(['train', 'test'], loc='upper left')\n",
    "plt.savefig(plotpath + 'test_loss.pdf')\n",
    "plt.show()"
   ]
  },
  {
   "cell_type": "code",
   "execution_count": 19,
   "metadata": {},
   "outputs": [
    {
     "name": "stdout",
     "output_type": "stream",
     "text": [
      "Area under curve: 0.9773601106216215\n"
     ]
    }
   ],
   "source": [
    "from sklearn.metrics import roc_curve, auc\n",
    "\n",
    "roc_fpr, roc_tpr, roc_thresh = roc_curve(\n",
    "    plabels[pdata_merged.test][:,1],\n",
    "    score[pdata_merged.test,1],\n",
    "    drop_intermediate=False,\n",
    ")\n",
    "roc_auc = auc(roc_fpr, roc_tpr)\n",
    "print('Area under curve: ' + str(roc_auc))"
   ]
  },
  {
   "cell_type": "code",
   "execution_count": 21,
   "metadata": {},
   "outputs": [
    {
     "data": {
      "text/plain": [
       "<Figure size 576x432 with 0 Axes>"
      ]
     },
     "metadata": {},
     "output_type": "display_data"
    },
    {
     "data": {
      "image/png": "[encoded data removed]",
      "text/plain": [
       "<Figure size 576x432 with 1 Axes>"
      ]
     },
     "metadata": {},
     "output_type": "display_data"
    }
   ],
   "source": [
    "pu.roc_plot([roc_fpr], [roc_tpr],\n",
    "            figfile=plotpath + 'roc_cnn_1x1.pdf',\n",
    "            labels=['area = {:.3f}'.format(roc_auc)],\n",
    "            extra_lines=[[[0, 1], [0, 1]]],\n",
    "            title='1x1 CNN ROC curve: classification of $\\pi^+$ vs. $\\pi^0$')"
   ]
  },
  {
   "cell_type": "markdown",
   "metadata": {},
   "source": [
    "## Experimentation\n",
    "<div style=\"text-align: right\"> <a href=\"#1x1-Convolutions\">Top</a> </div>"
   ]
  },
  {
   "cell_type": "code",
   "execution_count": 24,
   "metadata": {},
   "outputs": [],
   "source": [
    "def test_model(model,filename='',\n",
    "               epochs=100):\n",
    "    '''\n",
    "    Convenience function for training and calculating\n",
    "    the area-under-curve for a model\n",
    "    '''\n",
    "    \n",
    "    # train model\n",
    "    f_history = model.fit(pcells_EMB2_channels[pdata_merged.train],\n",
    "                        plabels[pdata_merged.train], \n",
    "                        validation_data=(pcells_EMB2_channels[pdata_merged.val], plabels[pdata_merged.val]),\n",
    "                        epochs=100, batch_size=200*ngpu, verbose=2)\n",
    "    f_history = f_history.history\n",
    "    \n",
    "    # save trained weights and history\n",
    "    if(filename != ''):\n",
    "        model.save(modelpath+filename+\".h5\")\n",
    "        with open(modelpath+filename +\".history\",'wb') as model_history_file:\n",
    "            pickle.dump(f_history, model_history_file)\n",
    "            \n",
    "    # get network scores for the dataset\n",
    "    f_score = model.predict(\n",
    "        pcells_EMB2_channels\n",
    "    )\n",
    "    \n",
    "    # calculate roc and auc\n",
    "    f_roc_fpr, f_roc_tpr, f_roc_thresh = roc_curve(\n",
    "        plabels[pdata_merged.test][:,1],\n",
    "        f_score[pdata_merged.test,1],\n",
    "        drop_intermediate=False,\n",
    "    )\n",
    "    f_roc_auc = auc(f_roc_fpr, f_roc_tpr)\n",
    "    \n",
    "    pu.roc_plot([f_roc_fpr], [f_roc_tpr],\n",
    "            figfile=plotpath+filename+'_roc.pdf',\n",
    "            labels=['area = {:.3f}'.format(f_roc_auc)],\n",
    "            extra_lines=[[[0, 1], [0, 1]]],\n",
    "            title=filename+' ROC curve: classification of $\\pi^+$ vs. $\\pi^0$')\n",
    "    return f_roc_auc"
   ]
  },
  {
   "cell_type": "code",
   "execution_count": 25,
   "metadata": {},
   "outputs": [],
   "source": [
    "# models to test\n",
    "def cnn_model_1x1_no_maxpool():\n",
    "    with strategy.scope():\n",
    "        # Here come the 16x16 inputs\n",
    "        input1 = Input(shape=(6, 16, 16), name='input1')\n",
    "        x = Convolution2D(32, (1, 1), activation='relu', data_format = 'channels_first')(input1)\n",
    "#         x = MaxPool2D(pool_size=(2, 2))(x)\n",
    "        x = Dropout(0.2)(x)\n",
    "        x = Flatten()(x)\n",
    "        x = Dense(128, activation='relu')(x)\n",
    "        x = Dense(64, activation='relu')(x)\n",
    "        output = Dense(2, activation='softmax')(x)\n",
    "        model = Model(inputs = [input1], outputs = [output])\n",
    "        \n",
    "        # compile model\n",
    "        model.compile(loss='categorical_crossentropy', optimizer='adam', metrics=['acc'])\n",
    "        return model\n",
    "    \n",
    "def cnn_model_1x1_no_dropout():\n",
    "    with strategy.scope():\n",
    "        # Here come the 16x16 inputs\n",
    "        input1 = Input(shape=(6, 16, 16), name='input1')\n",
    "        x = Convolution2D(32, (1, 1), activation='relu', data_format = 'channels_first')(input1)\n",
    "        x = MaxPool2D(pool_size=(2, 2))(x)\n",
    "#         x = Dropout(0.2)(x)\n",
    "        x = Flatten()(x)\n",
    "        x = Dense(128, activation='relu')(x)\n",
    "        x = Dense(64, activation='relu')(x)\n",
    "        output = Dense(2, activation='softmax')(x)\n",
    "        model = Model(inputs = [input1], outputs = [output])\n",
    "        \n",
    "        # compile model\n",
    "        model.compile(loss='categorical_crossentropy', optimizer='adam', metrics=['acc'])\n",
    "        return model"
   ]
  },
  {
   "cell_type": "code",
   "execution_count": null,
   "metadata": {},
   "outputs": [],
   "source": [
    "# test models\n",
    "models = [cnn_model_1x1_no_maxpool(),cnn_model_1x1_no_dropout()]\n",
    "fnames = ['no_maxpool','no_dropout']\n",
    "\n",
    "\n",
    "for m,n in zip(models,fnames):\n",
    "    res = test_model(m,filename=n)\n",
    "    print(n, res)"
   ]
  }
 ],
 "metadata": {
  "kernelspec": {
   "display_name": "Python 3",
   "language": "python",
   "name": "python3"
  },
  "language_info": {
   "codemirror_mode": {
    "name": "ipython",
    "version": 3
   },
   "file_extension": ".py",
   "mimetype": "text/x-python",
   "name": "python",
   "nbconvert_exporter": "python",
   "pygments_lexer": "ipython3",
   "version": "3.7.6"
  }
 },
 "nbformat": 4,
 "nbformat_minor": 4
}
