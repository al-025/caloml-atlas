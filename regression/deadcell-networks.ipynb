{
 "cells": [
  {
   "cell_type": "code",
   "execution_count": 1,
   "metadata": {},
   "outputs": [],
   "source": [
    "%load_ext autoreload\n",
    "%autoreload 2"
   ]
  },
  {
   "cell_type": "code",
   "execution_count": 2,
   "metadata": {},
   "outputs": [],
   "source": [
    "#import libraries and some constants\n",
    "\n",
    "import os\n",
    "import numpy as np\n",
    "import matplotlib as mpl\n",
    "import matplotlib.pyplot as plt\n",
    "from matplotlib.colors import Normalize, LogNorm\n",
    "import awkward as ak\n",
    "import scipy\n",
    "import pandas as pd\n",
    "import uproot as ur\n",
    "import atlas_mpl_style as ampl\n",
    "\n",
    "ampl.use_atlas_style()\n",
    "params = {'legend.fontsize': 13,\n",
    "          'axes.labelsize': 18}\n",
    "plt.rcParams.update(params)\n",
    "\n",
    "path_prefix = '/AL/Phd/maxml/'\n",
    "plotpath = path_prefix+'caloml-atlas/regression/Plots_deadcell/'\n",
    "modelpath = path_prefix+'caloml-atlas/classifier/Models/'"
   ]
  },
  {
   "cell_type": "code",
   "execution_count": 3,
   "metadata": {},
   "outputs": [
    {
     "name": "stderr",
     "output_type": "stream",
     "text": [
      "Using TensorFlow backend.\n"
     ]
    }
   ],
   "source": [
    "import sys\n",
    "sys.path.append(path_prefix+'caloml-atlas/')\n",
    "sys.path\n",
    "from  util import resolution_util as ru\n",
    "from  util import plot_util as pu\n",
    "from  util import ml_util as mu\n",
    "\n",
    "from tensorflow.keras import regularizers\n",
    "from tensorflow.keras import Sequential\n",
    "from tensorflow.keras import Model\n",
    "from tensorflow.keras.optimizers import SGD, Adam\n",
    "from tensorflow.keras.layers import LeakyReLU\n",
    "from tensorflow.keras.layers import Input, Dense, Dropout, BatchNormalization\n",
    "from keras.wrappers.scikit_learn import KerasRegressor"
   ]
  },
  {
   "cell_type": "code",
   "execution_count": 4,
   "metadata": {},
   "outputs": [
    {
     "name": "stdout",
     "output_type": "stream",
     "text": [
      "INFO:tensorflow:Using MirroredStrategy with devices ('/job:localhost/replica:0/task:0/device:GPU:0',)\n",
      "Number of devices: 1\n"
     ]
    }
   ],
   "source": [
    "import tensorflow as tf\n",
    "\n",
    "strategy = tf.distribute.MirroredStrategy(devices=[\"/gpu:0\"])\n",
    "ngpu = strategy.num_replicas_in_sync\n",
    "print ('Number of devices: {}'.format(ngpu))"
   ]
  },
  {
   "cell_type": "code",
   "execution_count": 8,
   "metadata": {},
   "outputs": [],
   "source": [
    "inputpath = path_prefix+'caloml-atlas/inputs/'\n",
    "\n",
    "truth_branches = ['truthPartPdgId', 'truthPartStatus', 'truthPartBarcode',\n",
    "                  'truthPartPt', 'truthPartE', 'truthPartMass',\n",
    "                  'truthPartEta', 'truthPartPhi']\n",
    "track_branches = ['nTrack', 'trackPt', 'trackP', 'trackMass', 'trackEta',\n",
    "                  'trackPhi', 'trackNumberOfPixelHits',\n",
    "                  'trackNumberOfSCTHits', 'trackNumberOfPixelDeadSensors',\n",
    "                  'trackNumberOfSCTDeadSensors',\n",
    "                  'trackNumberOfPixelSharedHits',\n",
    "                  'trackNumberOfSCTSharedHits', 'trackNumberOfPixelHoles',\n",
    "                  'trackNumberOfSCTHoles',\n",
    "                  'trackNumberOfInnermostPixelLayerHits',\n",
    "                  'trackNumberOfNextToInnermostPixelLayerHits',\n",
    "                  'trackExpectInnermostPixelLayerHit',\n",
    "                  'trackExpectNextToInnermostPixelLayerHit',\n",
    "                  'trackNumberOfTRTHits', 'trackNumberOfTRTOutliers',\n",
    "                  'trackChiSquared', 'trackNumberDOF', 'trackD0', 'trackZ0',\n",
    "                  'trackEta_PreSamplerB', 'trackPhi_PreSamplerB',\n",
    "                  'trackEta_PreSamplerE', 'trackPhi_PreSamplerE',\n",
    "                  'trackEta_EMB1', 'trackPhi_EMB1', 'trackEta_EMB2',\n",
    "                  'trackPhi_EMB2', 'trackEta_EMB3', 'trackPhi_EMB3',\n",
    "                  'trackEta_EME1', 'trackPhi_EME1', 'trackEta_EME2',\n",
    "                  'trackPhi_EME2', 'trackEta_EME3', 'trackPhi_EME3',\n",
    "                  'trackEta_HEC0', 'trackPhi_HEC0', 'trackEta_HEC1',\n",
    "                  'trackPhi_HEC1', 'trackEta_HEC2', 'trackPhi_HEC2',\n",
    "                  'trackEta_HEC3', 'trackPhi_HEC3', 'trackEta_TileBar0',\n",
    "                  'trackPhi_TileBar0', 'trackEta_TileBar1',\n",
    "                  'trackPhi_TileBar1', 'trackEta_TileBar2',\n",
    "                  'trackPhi_TileBar2', 'trackEta_TileGap1',\n",
    "                  'trackPhi_TileGap1', 'trackEta_TileGap2',\n",
    "                  'trackPhi_TileGap2', 'trackEta_TileGap3',\n",
    "                  'trackPhi_TileGap3', 'trackEta_TileExt0',\n",
    "                  'trackPhi_TileExt0', 'trackEta_TileExt1',\n",
    "                  'trackPhi_TileExt1', 'trackEta_TileExt2',\n",
    "                  'trackPhi_TileExt2']\n",
    "jet_branches = ['AntiKt4EMTopoJetsPt', 'AntiKt4EMTopoJetsEta',\n",
    "                'AntiKt4EMTopoJetsPhi', 'AntiKt4EMTopoJetsE',\n",
    "                'AntiKt4LCTopoJetsPt', 'AntiKt4LCTopoJetsEta',\n",
    "                'AntiKt4LCTopoJetsPhi', 'AntiKt4LCTopoJetsE',\n",
    "                'AntiKt4TruthJetsPt', 'AntiKt4TruthJetsEta',\n",
    "                'AntiKt4TruthJetsPhi', 'AntiKt4TruthJetsE',\n",
    "                'AntiKt4TruthJetsFlavor']\n",
    "cluster_branches = ['nCluster', 'cluster_E', 'cluster_E_LCCalib',\n",
    "                    'cluster_Pt', 'cluster_Eta', 'cluster_Phi',\n",
    "                    'cluster_nCells', 'cluster_ENG_CALIB_TOT',\n",
    "                    'cluster_ENG_CALIB_OUT_T', 'cluster_ENG_CALIB_DEAD_TOT',\n",
    "                    'cluster_EM_PROBABILITY', 'cluster_HAD_WEIGHT',\n",
    "                    'cluster_OOC_WEIGHT', 'cluster_DM_WEIGHT',\n",
    "                    'cluster_CENTER_MAG', 'cluster_FIRST_ENG_DENS',\n",
    "                    'cluster_CENTER_LAMBDA', 'cluster_ISOLATION',\n",
    "                    'cluster_ENERGY_DigiHSTruth', 'cluster_cell_ID',\n",
    "                    'cluster_cell_E', 'cluster_hitsTruthIndex',\n",
    "                    'cluster_hitsTruthE']\n",
    "\n",
    "geo_branches = [\n",
    "    'cell_geo_ID', 'cell_geo_sampling', 'cell_geo_eta', 'cell_geo_phi',\n",
    "    'cell_geo_rPerp', 'cell_geo_deta', 'cell_geo_dphi', 'cell_geo_volume',\n",
    "    'cell_geo_sigma'\n",
    "]"
   ]
  },
  {
   "cell_type": "code",
   "execution_count": 6,
   "metadata": {},
   "outputs": [],
   "source": [
    "def tvt_sets(data, tvt=(70, 15, 15), randomise=False):\n",
    "    ''' Function designed to output indices for traning validation and testing sets given\n",
    "    a variable length input. TVT expressed as ratios and do not need to add to 100. '''\n",
    "    tot = len(data)\n",
    "    train, val, test = tvt\n",
    "    tvt_sum = train + val + test\n",
    "    \n",
    "    train_idx = round(train*tot/tvt_sum)\n",
    "    val_idx = round(val*tot/tvt_sum)\n",
    "    test_idx = tot - train_idx - val_idx\n",
    "    \n",
    "    indices = np.array(range(tot))\n",
    "    if(randomise):\n",
    "        np.random.shuffle(indices)\n",
    "    \n",
    "    return indices[:train_idx], indices[train_idx:-test_idx], indices[-test_idx:]"
   ]
  },
  {
   "cell_type": "code",
   "execution_count": 33,
   "metadata": {},
   "outputs": [],
   "source": [
    "n_max = 1000000\n",
    "\n",
    "# with ur.open(inputpath+'pi-graph.root') as ifile:\n",
    "with ur.open(inputpath+'pi0-graph.root') as ifile:\n",
    "    pdata = ifile['EventTree'].arrays(\n",
    "        ['cluster_E', 'cluster_Eta', 'cluster_Phi', 'cluster_ENG_CALIB_DEAD_TOT'])\n",
    "\n",
    "## Energy Values that are not zero!\n",
    "sel = (pdata['cluster_E'] != 0) & (pdata['cluster_ENG_CALIB_DEAD_TOT'] > 0.5)\n",
    "X = np.array([\n",
    "    ak.to_numpy(ak.flatten(pdata['cluster_E'][sel]))[:n_max],\n",
    "    ak.to_numpy(ak.flatten(pdata['cluster_Eta'][sel]))[:n_max],\n",
    "    ak.to_numpy(ak.flatten(pdata['cluster_Phi'][sel]))[:n_max],\n",
    "]).T\n",
    "\n",
    "Y = ak.to_numpy(ak.flatten(pdata['cluster_ENG_CALIB_DEAD_TOT'][sel]))[:n_max]\n",
    "\n",
    "X[:,0] = np.log(X[:,0])\n",
    "clusE_mean = np.mean(X[:,0])\n",
    "clusE_std = np.std(X[:,0])\n",
    "X[:,0] = (X[:,0] - clusE_mean)/clusE_std\n",
    "\n",
    "Y = np.log(Y)\n",
    "Y_mean = np.mean(Y)\n",
    "Y_std = np.std(Y)\n",
    "Y = (Y - Y_mean)/Y_std"
   ]
  },
  {
   "cell_type": "code",
   "execution_count": 19,
   "metadata": {},
   "outputs": [
    {
     "name": "stdout",
     "output_type": "stream",
     "text": [
      "train -- val -- test\n",
      "700000 -- 150000 -- 150000\n"
     ]
    }
   ],
   "source": [
    "train,val,test = tvt_sets(X, tvt=(70, 15, 15))\n",
    "print('train -- val -- test')\n",
    "print('{} -- {} -- {}'.format(len(train),len(val),len(test)))\n",
    "\n",
    "nepochs = 100\n",
    "batch_size = 200 * ngpu\n",
    "verbose = 1 # 2 for a lot of printouts"
   ]
  },
  {
   "cell_type": "code",
   "execution_count": 9,
   "metadata": {},
   "outputs": [],
   "source": [
    "# Define a very basic regression: one input, one output\n",
    "def baseline_model():\n",
    "    with strategy.scope():\n",
    "        regressor = Sequential()\n",
    "        regressor.add(Dense(units=256, input_dim=1, kernel_initializer='normal', activation='relu'))\n",
    "        regressor.add(Dense(units=128, kernel_initializer='normal', activation='relu'))\n",
    "        regressor.add(Dense(units=64, kernel_initializer='normal', activation='relu'))\n",
    "        regressor.add(Dense(units=32, kernel_initializer='normal', activation='relu'))\n",
    "        regressor.add(Dense(units=16, kernel_initializer='normal', activation='relu'))\n",
    "        regressor.add(Dense(units=8, kernel_initializer='normal', activation='relu'))\n",
    "        regressor.add(Dense(units=1, kernel_initializer='normal', activation='linear'))\n",
    "        opt = Adam(lr=1e-5, decay=1e-6)\n",
    "        regressor.compile(optimizer=opt, loss='mse',metrics=['mae','mse'])\n",
    "\n",
    "    return regressor"
   ]
  },
  {
   "cell_type": "code",
   "execution_count": 20,
   "metadata": {},
   "outputs": [],
   "source": [
    "def baseline_model():\n",
    "    with strategy.scope():\n",
    "        regressor = Sequential()\n",
    "        regressor.add(Dense(units=256, input_dim=3, kernel_initializer='normal', activation='relu'))\n",
    "        regressor.add(Dense(units=128, kernel_initializer='normal', activation='relu'))\n",
    "        regressor.add(Dense(units=128, kernel_initializer='normal', activation='relu'))\n",
    "        regressor.add(Dense(units=128, kernel_initializer='normal', activation='relu'))\n",
    "        regressor.add(Dense(units=128, kernel_initializer='normal', activation='relu'))\n",
    "        regressor.add(Dense(units=64, kernel_initializer='normal', activation='relu'))\n",
    "        regressor.add(Dense(units=16, kernel_initializer='normal', activation='relu'))\n",
    "        regressor.add(Dense(units=1, kernel_initializer='normal', activation='linear'))\n",
    "        opt = Adam(lr=1e-5, decay=1e-6)\n",
    "        regressor.compile(optimizer=opt, loss='mse',metrics=['mae','mse'])\n",
    "\n",
    "    return regressor"
   ]
  },
  {
   "cell_type": "code",
   "execution_count": 21,
   "metadata": {},
   "outputs": [
    {
     "name": "stdout",
     "output_type": "stream",
     "text": [
      "Model: \"sequential_2\"\n",
      "_________________________________________________________________\n",
      "Layer (type)                 Output Shape              Param #   \n",
      "=================================================================\n",
      "dense_16 (Dense)             (None, 256)               1024      \n",
      "_________________________________________________________________\n",
      "dense_17 (Dense)             (None, 128)               32896     \n",
      "_________________________________________________________________\n",
      "dense_18 (Dense)             (None, 128)               16512     \n",
      "_________________________________________________________________\n",
      "dense_19 (Dense)             (None, 128)               16512     \n",
      "_________________________________________________________________\n",
      "dense_20 (Dense)             (None, 128)               16512     \n",
      "_________________________________________________________________\n",
      "dense_21 (Dense)             (None, 64)                8256      \n",
      "_________________________________________________________________\n",
      "dense_22 (Dense)             (None, 16)                1040      \n",
      "_________________________________________________________________\n",
      "dense_23 (Dense)             (None, 1)                 17        \n",
      "=================================================================\n",
      "Total params: 92,769\n",
      "Trainable params: 92,769\n",
      "Non-trainable params: 0\n",
      "_________________________________________________________________\n",
      "None\n"
     ]
    }
   ],
   "source": [
    "regressor = KerasRegressor(build_fn=baseline_model, batch_size=200*ngpu, epochs=50, verbose=1)\n",
    "print(baseline_model().summary())"
   ]
  },
  {
   "cell_type": "code",
   "execution_count": 34,
   "metadata": {},
   "outputs": [
    {
     "name": "stdout",
     "output_type": "stream",
     "text": [
      "Train on 700000 samples, validate on 150000 samples\n",
      "Epoch 1/100\n",
      "700000/700000 [==============================] - 17s 24us/sample - loss: 0.6668 - mae: 0.6506 - mse: 0.6668 - val_loss: 0.5583 - val_mae: 0.5966 - val_mse: 0.5583\n",
      "Epoch 2/100\n",
      "700000/700000 [==============================] - 15s 22us/sample - loss: 0.5461 - mae: 0.5880 - mse: 0.5461 - val_loss: 0.5343 - val_mae: 0.5803 - val_mse: 0.5343\n",
      "Epoch 3/100\n",
      "700000/700000 [==============================] - 15s 22us/sample - loss: 0.5000 - mae: 0.5595 - mse: 0.5000 - val_loss: 0.4561 - val_mae: 0.5325 - val_mse: 0.4561\n",
      "Epoch 4/100\n",
      "700000/700000 [==============================] - 15s 22us/sample - loss: 0.3993 - mae: 0.4938 - mse: 0.3993 - val_loss: 0.3701 - val_mae: 0.4722 - val_mse: 0.3701\n",
      "Epoch 5/100\n",
      "700000/700000 [==============================] - 15s 22us/sample - loss: 0.3567 - mae: 0.4634 - mse: 0.3567 - val_loss: 0.3519 - val_mae: 0.4587 - val_mse: 0.3519\n",
      "Epoch 6/100\n",
      "700000/700000 [==============================] - 15s 22us/sample - loss: 0.3459 - mae: 0.4551 - mse: 0.3459 - val_loss: 0.3442 - val_mae: 0.4529 - val_mse: 0.3442\n",
      "Epoch 7/100\n",
      "700000/700000 [==============================] - 15s 22us/sample - loss: 0.3399 - mae: 0.4507 - mse: 0.3399 - val_loss: 0.3387 - val_mae: 0.4488 - val_mse: 0.3387\n",
      "Epoch 8/100\n",
      "700000/700000 [==============================] - 16s 22us/sample - loss: 0.3348 - mae: 0.4471 - mse: 0.3348 - val_loss: 0.3331 - val_mae: 0.4451 - val_mse: 0.3331\n",
      "Epoch 9/100\n",
      "700000/700000 [==============================] - 15s 22us/sample - loss: 0.3287 - mae: 0.4430 - mse: 0.3287 - val_loss: 0.3267 - val_mae: 0.4406 - val_mse: 0.3267\n",
      "Epoch 10/100\n",
      "700000/700000 [==============================] - 15s 22us/sample - loss: 0.3209 - mae: 0.4377 - mse: 0.3209 - val_loss: 0.3181 - val_mae: 0.4352 - val_mse: 0.3181\n",
      "Epoch 11/100\n",
      "700000/700000 [==============================] - 15s 22us/sample - loss: 0.3114 - mae: 0.4311 - mse: 0.3114 - val_loss: 0.3080 - val_mae: 0.4281 - val_mse: 0.3080\n",
      "Epoch 12/100\n",
      "700000/700000 [==============================] - 15s 22us/sample - loss: 0.3014 - mae: 0.4241 - mse: 0.3014 - val_loss: 0.2969 - val_mae: 0.4197 - val_mse: 0.2969\n",
      "Epoch 13/100\n",
      "700000/700000 [==============================] - 15s 22us/sample - loss: 0.2907 - mae: 0.4163 - mse: 0.2907 - val_loss: 0.2865 - val_mae: 0.4121 - val_mse: 0.2865\n",
      "Epoch 14/100\n",
      "700000/700000 [==============================] - 15s 22us/sample - loss: 0.2789 - mae: 0.4077 - mse: 0.2789 - val_loss: 0.2746 - val_mae: 0.4029 - val_mse: 0.2746\n",
      "Epoch 15/100\n",
      "700000/700000 [==============================] - 16s 24us/sample - loss: 0.2665 - mae: 0.3980 - mse: 0.2665 - val_loss: 0.2635 - val_mae: 0.3940 - val_mse: 0.2635\n",
      "Epoch 16/100\n",
      "700000/700000 [==============================] - 16s 22us/sample - loss: 0.2553 - mae: 0.3892 - mse: 0.2553 - val_loss: 0.2514 - val_mae: 0.3848 - val_mse: 0.2514\n",
      "Epoch 17/100\n",
      "700000/700000 [==============================] - 16s 22us/sample - loss: 0.2467 - mae: 0.3825 - mse: 0.2467 - val_loss: 0.2436 - val_mae: 0.3799 - val_mse: 0.2436\n",
      "Epoch 18/100\n",
      "700000/700000 [==============================] - 16s 23us/sample - loss: 0.2407 - mae: 0.3779 - mse: 0.2407 - val_loss: 0.2399 - val_mae: 0.3781 - val_mse: 0.2399\n",
      "Epoch 19/100\n",
      "700000/700000 [==============================] - 16s 23us/sample - loss: 0.2372 - mae: 0.3751 - mse: 0.2372 - val_loss: 0.2398 - val_mae: 0.3754 - val_mse: 0.2398\n",
      "Epoch 20/100\n",
      "700000/700000 [==============================] - 16s 23us/sample - loss: 0.2358 - mae: 0.3740 - mse: 0.2358 - val_loss: 0.2349 - val_mae: 0.3727 - val_mse: 0.2349\n",
      "Epoch 21/100\n",
      "700000/700000 [==============================] - 12s 17us/sample - loss: 0.2349 - mae: 0.3733 - mse: 0.2349 - val_loss: 0.2350 - val_mae: 0.3739 - val_mse: 0.2350\n",
      "Epoch 22/100\n",
      "700000/700000 [==============================] - 11s 16us/sample - loss: 0.2343 - mae: 0.3729 - mse: 0.2343 - val_loss: 0.2336 - val_mae: 0.3719 - val_mse: 0.2336\n",
      "Epoch 23/100\n",
      "700000/700000 [==============================] - 11s 16us/sample - loss: 0.2338 - mae: 0.3724 - mse: 0.2338 - val_loss: 0.2339 - val_mae: 0.3719 - val_mse: 0.2339\n",
      "Epoch 24/100\n",
      "700000/700000 [==============================] - 11s 15us/sample - loss: 0.2333 - mae: 0.3721 - mse: 0.2333 - val_loss: 0.2335 - val_mae: 0.3719 - val_mse: 0.2335\n",
      "Epoch 25/100\n",
      "700000/700000 [==============================] - 11s 16us/sample - loss: 0.2330 - mae: 0.3719 - mse: 0.2330 - val_loss: 0.2347 - val_mae: 0.3745 - val_mse: 0.2347\n",
      "Epoch 26/100\n",
      "700000/700000 [==============================] - 11s 15us/sample - loss: 0.2326 - mae: 0.3716 - mse: 0.2326 - val_loss: 0.2332 - val_mae: 0.3724 - val_mse: 0.2332\n",
      "Epoch 27/100\n",
      "700000/700000 [==============================] - 11s 16us/sample - loss: 0.2323 - mae: 0.3714 - mse: 0.2323 - val_loss: 0.2332 - val_mae: 0.3728 - val_mse: 0.2332\n",
      "Epoch 28/100\n",
      "700000/700000 [==============================] - 11s 15us/sample - loss: 0.2320 - mae: 0.3712 - mse: 0.2320 - val_loss: 0.2327 - val_mae: 0.3700 - val_mse: 0.2327\n",
      "Epoch 29/100\n",
      "700000/700000 [==============================] - 11s 15us/sample - loss: 0.2320 - mae: 0.3712 - mse: 0.2320 - val_loss: 0.2317 - val_mae: 0.3708 - val_mse: 0.2317\n",
      "Epoch 30/100\n",
      "700000/700000 [==============================] - 11s 15us/sample - loss: 0.2317 - mae: 0.3710 - mse: 0.2317 - val_loss: 0.2353 - val_mae: 0.3752 - val_mse: 0.2353\n",
      "Epoch 31/100\n",
      "700000/700000 [==============================] - 11s 15us/sample - loss: 0.2315 - mae: 0.3708 - mse: 0.2315 - val_loss: 0.2315 - val_mae: 0.3697 - val_mse: 0.2315\n",
      "Epoch 32/100\n",
      "700000/700000 [==============================] - 11s 15us/sample - loss: 0.2312 - mae: 0.3706 - mse: 0.2312 - val_loss: 0.2334 - val_mae: 0.3733 - val_mse: 0.2334\n",
      "Epoch 33/100\n",
      "700000/700000 [==============================] - 11s 15us/sample - loss: 0.2310 - mae: 0.3704 - mse: 0.2310 - val_loss: 0.2311 - val_mae: 0.3705 - val_mse: 0.2311\n",
      "Epoch 34/100\n",
      "700000/700000 [==============================] - 11s 15us/sample - loss: 0.2308 - mae: 0.3703 - mse: 0.2308 - val_loss: 0.2320 - val_mae: 0.3717 - val_mse: 0.2320\n",
      "Epoch 35/100\n",
      "700000/700000 [==============================] - 11s 15us/sample - loss: 0.2308 - mae: 0.3702 - mse: 0.2308 - val_loss: 0.2306 - val_mae: 0.3701 - val_mse: 0.2306\n",
      "Epoch 36/100\n",
      "700000/700000 [==============================] - 11s 15us/sample - loss: 0.2306 - mae: 0.3702 - mse: 0.2306 - val_loss: 0.2313 - val_mae: 0.3708 - val_mse: 0.2313\n",
      "Epoch 37/100\n",
      "700000/700000 [==============================] - 11s 15us/sample - loss: 0.2305 - mae: 0.3701 - mse: 0.2305 - val_loss: 0.2306 - val_mae: 0.3698 - val_mse: 0.2306\n",
      "Epoch 38/100\n",
      "700000/700000 [==============================] - 11s 15us/sample - loss: 0.2304 - mae: 0.3699 - mse: 0.2304 - val_loss: 0.2304 - val_mae: 0.3695 - val_mse: 0.2304\n",
      "Epoch 39/100\n",
      "700000/700000 [==============================] - 11s 15us/sample - loss: 0.2302 - mae: 0.3698 - mse: 0.2302 - val_loss: 0.2321 - val_mae: 0.3723 - val_mse: 0.2321\n",
      "Epoch 40/100\n",
      "700000/700000 [==============================] - 11s 16us/sample - loss: 0.2301 - mae: 0.3697 - mse: 0.2301 - val_loss: 0.2307 - val_mae: 0.3702 - val_mse: 0.2307\n",
      "Epoch 41/100\n",
      "700000/700000 [==============================] - 11s 15us/sample - loss: 0.2299 - mae: 0.3696 - mse: 0.2299 - val_loss: 0.2301 - val_mae: 0.3684 - val_mse: 0.2301\n",
      "Epoch 42/100\n",
      "700000/700000 [==============================] - 11s 15us/sample - loss: 0.2298 - mae: 0.3695 - mse: 0.2298 - val_loss: 0.2299 - val_mae: 0.3692 - val_mse: 0.2299\n",
      "Epoch 43/100\n",
      "700000/700000 [==============================] - 11s 16us/sample - loss: 0.2297 - mae: 0.3694 - mse: 0.2297 - val_loss: 0.2294 - val_mae: 0.3683 - val_mse: 0.2294\n",
      "Epoch 44/100\n",
      "700000/700000 [==============================] - 11s 16us/sample - loss: 0.2295 - mae: 0.3692 - mse: 0.2295 - val_loss: 0.2296 - val_mae: 0.3691 - val_mse: 0.2296\n",
      "Epoch 45/100\n",
      "700000/700000 [==============================] - 11s 16us/sample - loss: 0.2295 - mae: 0.3692 - mse: 0.2295 - val_loss: 0.2295 - val_mae: 0.3688 - val_mse: 0.2295\n",
      "Epoch 46/100\n",
      "700000/700000 [==============================] - 11s 15us/sample - loss: 0.2293 - mae: 0.3691 - mse: 0.2293 - val_loss: 0.2293 - val_mae: 0.3688 - val_mse: 0.2293\n",
      "Epoch 47/100\n",
      "700000/700000 [==============================] - 11s 15us/sample - loss: 0.2292 - mae: 0.3689 - mse: 0.2292 - val_loss: 0.2303 - val_mae: 0.3705 - val_mse: 0.2303\n",
      "Epoch 48/100\n",
      "700000/700000 [==============================] - 11s 16us/sample - loss: 0.2291 - mae: 0.3688 - mse: 0.2291 - val_loss: 0.2300 - val_mae: 0.3680 - val_mse: 0.2300\n",
      "Epoch 49/100\n",
      "700000/700000 [==============================] - 11s 16us/sample - loss: 0.2289 - mae: 0.3687 - mse: 0.2289 - val_loss: 0.2300 - val_mae: 0.3701 - val_mse: 0.2300\n",
      "Epoch 50/100\n",
      "700000/700000 [==============================] - 11s 15us/sample - loss: 0.2288 - mae: 0.3687 - mse: 0.2288 - val_loss: 0.2298 - val_mae: 0.3688 - val_mse: 0.2298\n",
      "Epoch 51/100\n",
      "700000/700000 [==============================] - 11s 15us/sample - loss: 0.2286 - mae: 0.3685 - mse: 0.2286 - val_loss: 0.2287 - val_mae: 0.3676 - val_mse: 0.2287\n",
      "Epoch 52/100\n",
      "700000/700000 [==============================] - 11s 15us/sample - loss: 0.2285 - mae: 0.3684 - mse: 0.2285 - val_loss: 0.2306 - val_mae: 0.3681 - val_mse: 0.2306\n",
      "Epoch 53/100\n",
      "700000/700000 [==============================] - 11s 15us/sample - loss: 0.2284 - mae: 0.3683 - mse: 0.2284 - val_loss: 0.2289 - val_mae: 0.3681 - val_mse: 0.2289\n",
      "Epoch 54/100\n",
      "700000/700000 [==============================] - 11s 15us/sample - loss: 0.2284 - mae: 0.3683 - mse: 0.2284 - val_loss: 0.2283 - val_mae: 0.3682 - val_mse: 0.2283\n",
      "Epoch 55/100\n",
      "700000/700000 [==============================] - 11s 15us/sample - loss: 0.2282 - mae: 0.3682 - mse: 0.2282 - val_loss: 0.2291 - val_mae: 0.3691 - val_mse: 0.2291\n",
      "Epoch 56/100\n",
      "700000/700000 [==============================] - 11s 16us/sample - loss: 0.2282 - mae: 0.3681 - mse: 0.2282 - val_loss: 0.2310 - val_mae: 0.3716 - val_mse: 0.2310\n",
      "Epoch 57/100\n",
      "700000/700000 [==============================] - 11s 15us/sample - loss: 0.2280 - mae: 0.3680 - mse: 0.2280 - val_loss: 0.2278 - val_mae: 0.3675 - val_mse: 0.2278\n",
      "Epoch 58/100\n",
      "700000/700000 [==============================] - 11s 15us/sample - loss: 0.2280 - mae: 0.3680 - mse: 0.2280 - val_loss: 0.2292 - val_mae: 0.3690 - val_mse: 0.2292\n",
      "Epoch 59/100\n",
      "700000/700000 [==============================] - 11s 16us/sample - loss: 0.2278 - mae: 0.3679 - mse: 0.2278 - val_loss: 0.2299 - val_mae: 0.3681 - val_mse: 0.2299\n",
      "Epoch 60/100\n",
      "700000/700000 [==============================] - 11s 15us/sample - loss: 0.2277 - mae: 0.3678 - mse: 0.2277 - val_loss: 0.2279 - val_mae: 0.3671 - val_mse: 0.2279\n",
      "Epoch 61/100\n",
      "700000/700000 [==============================] - 11s 15us/sample - loss: 0.2277 - mae: 0.3678 - mse: 0.2277 - val_loss: 0.2283 - val_mae: 0.3670 - val_mse: 0.2283\n",
      "Epoch 62/100\n",
      "700000/700000 [==============================] - 11s 15us/sample - loss: 0.2275 - mae: 0.3676 - mse: 0.2275 - val_loss: 0.2277 - val_mae: 0.3667 - val_mse: 0.2277\n",
      "Epoch 63/100\n",
      "700000/700000 [==============================] - 11s 15us/sample - loss: 0.2275 - mae: 0.3677 - mse: 0.2275 - val_loss: 0.2275 - val_mae: 0.3677 - val_mse: 0.2275\n",
      "Epoch 64/100\n",
      "700000/700000 [==============================] - 11s 15us/sample - loss: 0.2274 - mae: 0.3676 - mse: 0.2274 - val_loss: 0.2274 - val_mae: 0.3672 - val_mse: 0.2274\n",
      "Epoch 65/100\n",
      "700000/700000 [==============================] - 11s 15us/sample - loss: 0.2273 - mae: 0.3674 - mse: 0.2273 - val_loss: 0.2291 - val_mae: 0.3700 - val_mse: 0.2291\n",
      "Epoch 66/100\n",
      "700000/700000 [==============================] - 11s 16us/sample - loss: 0.2272 - mae: 0.3674 - mse: 0.2272 - val_loss: 0.2274 - val_mae: 0.3665 - val_mse: 0.2274\n",
      "Epoch 67/100\n",
      "700000/700000 [==============================] - 11s 16us/sample - loss: 0.2271 - mae: 0.3672 - mse: 0.2271 - val_loss: 0.2278 - val_mae: 0.3681 - val_mse: 0.2278\n",
      "Epoch 68/100\n",
      "700000/700000 [==============================] - 11s 16us/sample - loss: 0.2270 - mae: 0.3672 - mse: 0.2270 - val_loss: 0.2271 - val_mae: 0.3665 - val_mse: 0.2271\n",
      "Epoch 69/100\n",
      "700000/700000 [==============================] - 11s 16us/sample - loss: 0.2270 - mae: 0.3673 - mse: 0.2270 - val_loss: 0.2271 - val_mae: 0.3665 - val_mse: 0.2271\n",
      "Epoch 70/100\n",
      "700000/700000 [==============================] - 11s 16us/sample - loss: 0.2271 - mae: 0.3673 - mse: 0.2271 - val_loss: 0.2276 - val_mae: 0.3664 - val_mse: 0.2276\n",
      "Epoch 71/100\n",
      "700000/700000 [==============================] - 11s 15us/sample - loss: 0.2269 - mae: 0.3671 - mse: 0.2269 - val_loss: 0.2279 - val_mae: 0.3663 - val_mse: 0.2279\n",
      "Epoch 72/100\n",
      "700000/700000 [==============================] - 11s 15us/sample - loss: 0.2269 - mae: 0.3671 - mse: 0.2269 - val_loss: 0.2271 - val_mae: 0.3674 - val_mse: 0.2271\n",
      "Epoch 73/100\n",
      "700000/700000 [==============================] - 11s 16us/sample - loss: 0.2267 - mae: 0.3670 - mse: 0.2267 - val_loss: 0.2270 - val_mae: 0.3662 - val_mse: 0.2270\n",
      "Epoch 74/100\n",
      "700000/700000 [==============================] - 11s 15us/sample - loss: 0.2266 - mae: 0.3669 - mse: 0.2266 - val_loss: 0.2273 - val_mae: 0.3662 - val_mse: 0.2273\n",
      "Epoch 75/100\n",
      "700000/700000 [==============================] - 11s 15us/sample - loss: 0.2266 - mae: 0.3669 - mse: 0.2266 - val_loss: 0.2267 - val_mae: 0.3665 - val_mse: 0.2267\n",
      "Epoch 76/100\n",
      "700000/700000 [==============================] - 11s 15us/sample - loss: 0.2266 - mae: 0.3670 - mse: 0.2266 - val_loss: 0.2272 - val_mae: 0.3675 - val_mse: 0.2272\n",
      "Epoch 77/100\n",
      "700000/700000 [==============================] - 12s 17us/sample - loss: 0.2265 - mae: 0.3668 - mse: 0.2265 - val_loss: 0.2267 - val_mae: 0.3664 - val_mse: 0.2267\n",
      "Epoch 78/100\n",
      "700000/700000 [==============================] - 12s 16us/sample - loss: 0.2266 - mae: 0.3669 - mse: 0.2266 - val_loss: 0.2293 - val_mae: 0.3668 - val_mse: 0.2293\n",
      "Epoch 79/100\n",
      "700000/700000 [==============================] - 12s 17us/sample - loss: 0.2264 - mae: 0.3667 - mse: 0.2264 - val_loss: 0.2289 - val_mae: 0.3664 - val_mse: 0.2289\n",
      "Epoch 80/100\n",
      "700000/700000 [==============================] - 11s 15us/sample - loss: 0.2264 - mae: 0.3667 - mse: 0.2264 - val_loss: 0.2262 - val_mae: 0.3658 - val_mse: 0.2262\n",
      "Epoch 81/100\n",
      "700000/700000 [==============================] - 11s 15us/sample - loss: 0.2263 - mae: 0.3666 - mse: 0.2263 - val_loss: 0.2267 - val_mae: 0.3655 - val_mse: 0.2267\n",
      "Epoch 82/100\n",
      "700000/700000 [==============================] - 11s 15us/sample - loss: 0.2263 - mae: 0.3666 - mse: 0.2263 - val_loss: 0.2265 - val_mae: 0.3653 - val_mse: 0.2265\n",
      "Epoch 83/100\n",
      "700000/700000 [==============================] - 11s 15us/sample - loss: 0.2263 - mae: 0.3666 - mse: 0.2263 - val_loss: 0.2260 - val_mae: 0.3658 - val_mse: 0.2260\n",
      "Epoch 84/100\n",
      "700000/700000 [==============================] - 11s 16us/sample - loss: 0.2262 - mae: 0.3666 - mse: 0.2262 - val_loss: 0.2272 - val_mae: 0.3678 - val_mse: 0.2272\n",
      "Epoch 85/100\n",
      "700000/700000 [==============================] - 11s 16us/sample - loss: 0.2262 - mae: 0.3665 - mse: 0.2262 - val_loss: 0.2274 - val_mae: 0.3680 - val_mse: 0.2274\n",
      "Epoch 86/100\n",
      "700000/700000 [==============================] - 11s 16us/sample - loss: 0.2262 - mae: 0.3665 - mse: 0.2262 - val_loss: 0.2266 - val_mae: 0.3654 - val_mse: 0.2266\n",
      "Epoch 87/100\n",
      "700000/700000 [==============================] - 11s 15us/sample - loss: 0.2261 - mae: 0.3664 - mse: 0.2261 - val_loss: 0.2276 - val_mae: 0.3655 - val_mse: 0.2276\n",
      "Epoch 88/100\n",
      "700000/700000 [==============================] - 11s 15us/sample - loss: 0.2259 - mae: 0.3664 - mse: 0.2259 - val_loss: 0.2262 - val_mae: 0.3658 - val_mse: 0.2262\n",
      "Epoch 89/100\n",
      "700000/700000 [==============================] - 11s 15us/sample - loss: 0.2261 - mae: 0.3664 - mse: 0.2261 - val_loss: 0.2265 - val_mae: 0.3654 - val_mse: 0.2265\n",
      "Epoch 90/100\n",
      "700000/700000 [==============================] - 11s 15us/sample - loss: 0.2260 - mae: 0.3664 - mse: 0.2260 - val_loss: 0.2274 - val_mae: 0.3681 - val_mse: 0.2274\n",
      "Epoch 91/100\n",
      "700000/700000 [==============================] - 11s 15us/sample - loss: 0.2260 - mae: 0.3664 - mse: 0.2260 - val_loss: 0.2264 - val_mae: 0.3665 - val_mse: 0.2264\n",
      "Epoch 92/100\n",
      "700000/700000 [==============================] - 11s 15us/sample - loss: 0.2258 - mae: 0.3662 - mse: 0.2258 - val_loss: 0.2277 - val_mae: 0.3661 - val_mse: 0.2277\n",
      "Epoch 93/100\n"
     ]
    },
    {
     "name": "stdout",
     "output_type": "stream",
     "text": [
      "700000/700000 [==============================] - 11s 15us/sample - loss: 0.2259 - mae: 0.3663 - mse: 0.2259 - val_loss: 0.2258 - val_mae: 0.3653 - val_mse: 0.2258\n",
      "Epoch 94/100\n",
      "700000/700000 [==============================] - 11s 16us/sample - loss: 0.2258 - mae: 0.3662 - mse: 0.2258 - val_loss: 0.2279 - val_mae: 0.3654 - val_mse: 0.2279\n",
      "Epoch 95/100\n",
      "700000/700000 [==============================] - 11s 16us/sample - loss: 0.2258 - mae: 0.3662 - mse: 0.2258 - val_loss: 0.2270 - val_mae: 0.3677 - val_mse: 0.2270\n",
      "Epoch 96/100\n",
      "700000/700000 [==============================] - 11s 15us/sample - loss: 0.2257 - mae: 0.3661 - mse: 0.2257 - val_loss: 0.2266 - val_mae: 0.3667 - val_mse: 0.2266\n",
      "Epoch 97/100\n",
      "700000/700000 [==============================] - 11s 15us/sample - loss: 0.2257 - mae: 0.3662 - mse: 0.2257 - val_loss: 0.2286 - val_mae: 0.3660 - val_mse: 0.2286\n",
      "Epoch 98/100\n",
      "700000/700000 [==============================] - 11s 15us/sample - loss: 0.2257 - mae: 0.3661 - mse: 0.2257 - val_loss: 0.2259 - val_mae: 0.3661 - val_mse: 0.2259\n",
      "Epoch 99/100\n",
      "700000/700000 [==============================] - 11s 15us/sample - loss: 0.2257 - mae: 0.3661 - mse: 0.2257 - val_loss: 0.2262 - val_mae: 0.3648 - val_mse: 0.2262\n",
      "Epoch 100/100\n",
      "700000/700000 [==============================] - 11s 15us/sample - loss: 0.2256 - mae: 0.3661 - mse: 0.2256 - val_loss: 0.2271 - val_mae: 0.3651 - val_mse: 0.2271\n"
     ]
    }
   ],
   "source": [
    "history = regressor.fit(\n",
    "    X[train], Y[train],\n",
    "    validation_data = (X[val], Y[val]),\n",
    "    epochs = nepochs, batch_size = batch_size, verbose = verbose,\n",
    ")"
   ]
  },
  {
   "cell_type": "code",
   "execution_count": 35,
   "metadata": {},
   "outputs": [
    {
     "data": {
      "image/png": "[encoded data removed]",
      "text/plain": [
       "<Figure size 432x432 with 1 Axes>"
      ]
     },
     "metadata": {},
     "output_type": "display_data"
    }
   ],
   "source": [
    "fig = plt.figure(figsize=(6,6))\n",
    "plt.plot(history.history['val_loss'], label=\"Validation\")\n",
    "plt.plot(history.history['loss'], label=\"Training\")\n",
    "plt.yscale('log')\n",
    "plt.ylim(.001,10)\n",
    "plt.yticks(fontsize=13)\n",
    "plt.xlim(0,nepochs)\n",
    "plt.xticks(fontsize=13)\n",
    "plt.xlabel('Epochs', fontsize=14)\n",
    "plt.ylabel('Loss', fontsize=14)\n",
    "plt.legend(loc='upper right', ncol=1)\n",
    "# plt.text(1000, 1.5, 'LR=1e-3', fontsize=13)\n",
    "# plt.text(1000, 1, 'Batch: 3000', fontsize=13)\n",
    "# plt.tight_layout()\n",
    "plt.savefig(plotpath+'loss.pdf')\n",
    "plt.show()"
   ]
  },
  {
   "cell_type": "code",
   "execution_count": 46,
   "metadata": {},
   "outputs": [
    {
     "name": "stdout",
     "output_type": "stream",
     "text": [
      "150000/150000 [==============================] - 1s 4us/sample\n"
     ]
    }
   ],
   "source": [
    "# get overall performance metric\n",
    "# performance = model.evaluate(\n",
    "#     X[test], Y[test],\n",
    "#     verbose = 0,\n",
    "# )\n",
    "\n",
    "# get network scores for the dataset\n",
    "preds = np.exp(regressor.predict(X[test])*Y_std+Y_mean)"
   ]
  },
  {
   "cell_type": "code",
   "execution_count": 47,
   "metadata": {},
   "outputs": [
    {
     "data": {
      "image/png": "[encoded data removed]",
      "text/plain": [
       "<Figure size 432x432 with 1 Axes>"
      ]
     },
     "metadata": {},
     "output_type": "display_data"
    }
   ],
   "source": [
    "## PREDICTIONS AND TRUTH ##\n",
    "bins = np.linspace(0,8,50, endpoint=True)\n",
    "fig = plt.figure(figsize=(6,6))\n",
    "plt.hist(np.exp(Y[test]*Y_std+Y_mean), color='steelblue', bins=bins, density=True, alpha=.5, edgecolor='black', label='target')\n",
    "plt.hist(preds, color='coral', bins=bins, density=True, alpha=.5, edgecolor='black', label='network')\n",
    "plt.title('Regression Output and Target', fontsize=16)\n",
    "plt.xlabel('Dead Cell Energy /[GeV])', fontsize=14)\n",
    "plt.xlim(0,8)\n",
    "plt.xticks(fontsize=13)\n",
    "plt.yticks(fontsize=13)\n",
    "plt.legend()\n",
    "# plt.legend(loc='upper left')\n",
    "plt.tight_layout()\n",
    "plt.savefig(plotpath+'predictions.pdf')\n",
    "plt.show()"
   ]
  },
  {
   "cell_type": "code",
   "execution_count": 49,
   "metadata": {},
   "outputs": [
    {
     "data": {
      "text/plain": [
       "<Figure size 576x432 with 0 Axes>"
      ]
     },
     "metadata": {},
     "output_type": "display_data"
    },
    {
     "data": {
      "image/png": "[encoded data removed]",
      "text/plain": [
       "<Figure size 576x432 with 2 Axes>"
      ]
     },
     "metadata": {},
     "output_type": "display_data"
    }
   ],
   "source": [
    "resplot = ru.responsePlot(x=np.exp(Y[test]*Y_std+Y_mean), y=preds/np.exp(Y[test]*Y_std+Y_mean),\n",
    "                figfile=plotpath+'response.pdf',\n",
    "                statistic='median', xlabel='Dead Cell Energy', ylabel='Predicted / Truth Dead Cell Energy',\n",
    "                atlas_x=.05, atlas_y=.96, simulation=True,\n",
    "                textlist=[])"
   ]
  },
  {
   "cell_type": "markdown",
   "metadata": {},
   "source": [
    "## Variable Correlation"
   ]
  },
  {
   "cell_type": "code",
   "execution_count": 7,
   "metadata": {},
   "outputs": [
    {
     "name": "stdout",
     "output_type": "stream",
     "text": [
      "['runNumber', 'eventNumber', 'lumiBlock', 'coreFlags', 'mcEventNumber', 'mcChannelNumber', 'mcEventWeight', 'nTruthPart', 'G4PreCalo_n_EM', 'G4PreCalo_E_EM', 'G4PreCalo_n_Had', 'G4PreCalo_E_Had', 'truthVertexX', 'truthVertexY', 'truthVertexZ', 'truthPartPdgId', 'truthPartStatus', 'truthPartBarcode', 'truthPartPt', 'truthPartE', 'truthPartMass', 'truthPartEta', 'truthPartPhi', 'nTrack', 'trackPt', 'trackP', 'trackMass', 'trackEta', 'trackPhi', 'trackNumberOfPixelHits', 'trackNumberOfSCTHits', 'trackNumberOfPixelDeadSensors', 'trackNumberOfSCTDeadSensors', 'trackNumberOfPixelSharedHits', 'trackNumberOfSCTSharedHits', 'trackNumberOfPixelHoles', 'trackNumberOfSCTHoles', 'trackNumberOfInnermostPixelLayerHits', 'trackNumberOfNextToInnermostPixelLayerHits', 'trackExpectInnermostPixelLayerHit', 'trackExpectNextToInnermostPixelLayerHit', 'trackNumberOfTRTHits', 'trackNumberOfTRTOutliers', 'trackChiSquared', 'trackNumberDOF', 'trackD0', 'trackZ0', 'trackEta_PreSamplerB', 'trackPhi_PreSamplerB', 'trackEta_PreSamplerE', 'trackPhi_PreSamplerE', 'trackEta_EMB1', 'trackPhi_EMB1', 'trackEta_EMB2', 'trackPhi_EMB2', 'trackEta_EMB3', 'trackPhi_EMB3', 'trackEta_EME1', 'trackPhi_EME1', 'trackEta_EME2', 'trackPhi_EME2', 'trackEta_EME3', 'trackPhi_EME3', 'trackEta_HEC0', 'trackPhi_HEC0', 'trackEta_HEC1', 'trackPhi_HEC1', 'trackEta_HEC2', 'trackPhi_HEC2', 'trackEta_HEC3', 'trackPhi_HEC3', 'trackEta_TileBar0', 'trackPhi_TileBar0', 'trackEta_TileBar1', 'trackPhi_TileBar1', 'trackEta_TileBar2', 'trackPhi_TileBar2', 'trackEta_TileGap1', 'trackPhi_TileGap1', 'trackEta_TileGap2', 'trackPhi_TileGap2', 'trackEta_TileGap3', 'trackPhi_TileGap3', 'trackEta_TileExt0', 'trackPhi_TileExt0', 'trackEta_TileExt1', 'trackPhi_TileExt1', 'trackEta_TileExt2', 'trackPhi_TileExt2', 'AntiKt4EMTopoJetsPt', 'AntiKt4EMTopoJetsEta', 'AntiKt4EMTopoJetsPhi', 'AntiKt4EMTopoJetsE', 'AntiKt4LCTopoJetsPt', 'AntiKt4LCTopoJetsEta', 'AntiKt4LCTopoJetsPhi', 'AntiKt4LCTopoJetsE', 'AntiKt4TruthJetsPt', 'AntiKt4TruthJetsEta', 'AntiKt4TruthJetsPhi', 'AntiKt4TruthJetsE', 'AntiKt4TruthJetsFlavor', 'nCluster', 'cluster_E', 'cluster_E_LCCalib', 'cluster_Pt', 'cluster_Eta', 'cluster_Phi', 'cluster_nCells', 'cluster_ENG_CALIB_TOT', 'cluster_ENG_CALIB_OUT_T', 'cluster_ENG_CALIB_DEAD_TOT', 'cluster_EM_PROBABILITY', 'cluster_HAD_WEIGHT', 'cluster_OOC_WEIGHT', 'cluster_DM_WEIGHT', 'cluster_CENTER_MAG', 'cluster_FIRST_ENG_DENS', 'cluster_CENTER_LAMBDA', 'cluster_ISOLATION', 'cluster_ENERGY_DigiHSTruth', 'cluster_cell_ID', 'cluster_cell_E', 'cluster_hitsTruthIndex', 'cluster_hitsTruthE']\n"
     ]
    }
   ],
   "source": [
    "with ur.open(inputpath+'pi0-graph.root') as ifile:\n",
    "    print(ifile['EventTree'].keys())"
   ]
  },
  {
   "cell_type": "code",
   "execution_count": null,
   "metadata": {},
   "outputs": [],
   "source": [
    "# with ur.open(inputpath+'pi-graph.root') as ifile:\n",
    "with ur.open(inputpath+'pi0-graph.root') as ifile:\n",
    "    pdata = ifile['EventTree'].arrays(cluster_branches)\n",
    "\n",
    "## Energy Values that are not zero!\n",
    "sel = (pdata['cluster_E'] != 0) & (pdata['cluster_ENG_CALIB_DEAD_TOT'] > 0.5)\n",
    "\n",
    "df = pd.Dataframe([\n",
    "    ak.to_numpy(ak.flatten(pdata[branch][sel]))[:n_max]\n",
    "    for branch in pdata\n",
    "], columns=[branch for branch in pdata])\n"
   ]
  },
  {
   "cell_type": "code",
   "execution_count": null,
   "metadata": {},
   "outputs": [],
   "source": [
    "df.corr()"
   ]
  },
  {
   "cell_type": "code",
   "execution_count": null,
   "metadata": {},
   "outputs": [],
   "source": []
  }
 ],
 "metadata": {
  "kernelspec": {
   "display_name": "Python 3",
   "language": "python",
   "name": "python3"
  },
  "language_info": {
   "codemirror_mode": {
    "name": "ipython",
    "version": 3
   },
   "file_extension": ".py",
   "mimetype": "text/x-python",
   "name": "python",
   "nbconvert_exporter": "python",
   "pygments_lexer": "ipython3",
   "version": "3.7.6"
  }
 },
 "nbformat": 4,
 "nbformat_minor": 4
}
